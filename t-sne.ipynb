{
 "cells": [
  {
   "cell_type": "code",
   "execution_count": 3,
   "metadata": {},
   "outputs": [],
   "source": [
    "from sklearn.datasets import load_iris\n",
    "import pandas as pd\n",
    "import numpy as np\n",
    "\n",
    "\n",
    "# load datasets\n",
    "iris = load_iris()\n",
    "df = pd.DataFrame(data = np.c_[iris.data, iris.target], \\\n",
    "    columns = \\\n",
    "        ['sepal length', 'sepal width', 'petal length', 'petal width', 'target'])"
   ]
  },
  {
   "cell_type": "code",
   "execution_count": null,
   "metadata": {},
   "outputs": [],
   "source": [
    "from sklearn.manifold import TSNE\n",
    "# class target 정보 제외\n",
    "train_df = df[['sepal length', 'sepal width', 'petal length', 'petal width']]\n",
    "\n",
    "# 2차원 t-SNE 임베딩\n",
    "tsne_np = TSNE(n_components = 2).fit_transform(train_df)\n",
    "\n",
    "# numpy array -> DataFrame 변환\n",
    "tsne_df = pd.DataFrame(tsne_np, columns = ['component 0', 'component 1'])\n"
   ]
  }
 ],
 "metadata": {
  "kernelspec": {
   "display_name": "Python 3.8.13 ('torchN')",
   "language": "python",
   "name": "python3"
  },
  "language_info": {
   "codemirror_mode": {
    "name": "ipython",
    "version": 3
   },
   "file_extension": ".py",
   "mimetype": "text/x-python",
   "name": "python",
   "nbconvert_exporter": "python",
   "pygments_lexer": "ipython3",
   "version": "3.8.13"
  },
  "orig_nbformat": 4,
  "vscode": {
   "interpreter": {
    "hash": "ec360e1505a75bc01b05936fc5e2a90ff09a2b277a37665b726535171316c329"
   }
  }
 },
 "nbformat": 4,
 "nbformat_minor": 2
}
