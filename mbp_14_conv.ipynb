{
 "cells": [
  {
   "cell_type": "code",
   "execution_count": 6,
   "metadata": {},
   "outputs": [],
   "source": [
    "import torch\n",
    "import torchvision\n",
    "from torch.utils.data import DataLoader\n",
    "from torch.optim import AdamW\n",
    "from torch.optim.lr_scheduler import CosineAnnealingLR, CosineAnnealingWarmRestarts\n",
    "from torch import nn\n",
    "from torchvision import transforms as T\n",
    "from dataset import BTechDataset\n",
    "from model import convAutoEncoder\n",
    "from train import trainAE\n",
    "\n",
    "ROOTPATH = '../datasets/BTech_Dataset_transformed'\n",
    "btech_train = BTechDataset(\n",
    "    ROOTPATH,\n",
    "    1,\n",
    "    'train',\n",
    "    'ok'\n",
    ")\n",
    "btech_test = BTechDataset(\n",
    "    ROOTPATH,\n",
    "    1,\n",
    "    'test',\n",
    "    'ko'\n",
    ")"
   ]
  },
  {
   "cell_type": "code",
   "execution_count": 7,
   "metadata": {},
   "outputs": [],
   "source": [
    "train_loader = DataLoader(btech_train, batch_size=16, shuffle=True, drop_last=True, num_workers=8)\n",
    "test_loader = DataLoader(btech_test, batch_size=16, shuffle=True, drop_last=True, num_workers=8)\n",
    "model = convAutoEncoder()\n",
    "criterion = nn.MSELoss()\n",
    "optimizer = AdamW(model.parameters(), lr=0.1)\n",
    "lr = CosineAnnealingWarmRestarts(optimizer, T_0=50, T_mult=2, eta_min=0.001)\n"
   ]
  },
  {
   "cell_type": "code",
   "execution_count": 8,
   "metadata": {},
   "outputs": [
    {
     "name": "stdout",
     "output_type": "stream",
     "text": [
      "Epoch 1/500\n",
      "----------\n"
     ]
    },
    {
     "name": "stderr",
     "output_type": "stream",
     "text": [
      "  0%|          | 0/25 [00:31<?, ?it/s]\n"
     ]
    },
    {
     "ename": "ValueError",
     "evalue": "too many values to unpack (expected 2)",
     "output_type": "error",
     "traceback": [
      "\u001b[0;31m---------------------------------------------------------------------------\u001b[0m",
      "\u001b[0;31mValueError\u001b[0m                                Traceback (most recent call last)",
      "\u001b[1;32m/Users/minjeonghyeon/projects/mps/mbp_14_conv.ipynb 셀 3\u001b[0m in \u001b[0;36m<cell line: 2>\u001b[0;34m()\u001b[0m\n\u001b[1;32m      <a href='vscode-notebook-cell:/Users/minjeonghyeon/projects/mps/mbp_14_conv.ipynb#W3sZmlsZQ%3D%3D?line=0'>1</a>\u001b[0m EPOCHS \u001b[39m=\u001b[39m \u001b[39m500\u001b[39m\n\u001b[0;32m----> <a href='vscode-notebook-cell:/Users/minjeonghyeon/projects/mps/mbp_14_conv.ipynb#W3sZmlsZQ%3D%3D?line=1'>2</a>\u001b[0m last \u001b[39m=\u001b[39m train(model, train_loader, test_loader, criterion, optimizer, lr, EPOCHS)\n",
      "File \u001b[0;32m~/projects/mps/train.py:45\u001b[0m, in \u001b[0;36mtrain\u001b[0;34m(model, train_dataloader, val_dataloader, criterion, optimizer, scheduler, epochs)\u001b[0m\n\u001b[1;32m     42\u001b[0m running_loss \u001b[39m=\u001b[39m \u001b[39m0.0\u001b[39m\n\u001b[1;32m     43\u001b[0m running_corrects \u001b[39m=\u001b[39m \u001b[39m0\u001b[39m\n\u001b[0;32m---> 45\u001b[0m \u001b[39mfor\u001b[39;00m inputs, labels \u001b[39min\u001b[39;00m tqdm(loader):\n\u001b[1;32m     46\u001b[0m     inputs, labels \u001b[39m=\u001b[39m inputs\u001b[39m.\u001b[39mto(device), labels\u001b[39m.\u001b[39mto(device)\n\u001b[1;32m     48\u001b[0m     \u001b[39m# zero the parameter gradients\u001b[39;00m\n",
      "\u001b[0;31mValueError\u001b[0m: too many values to unpack (expected 2)"
     ]
    }
   ],
   "source": [
    "EPOCHS = 500\n",
    "last = train(model, train_loader, test_loader, criterion, optimizer, lr, EPOCHS)"
   ]
  }
 ],
 "metadata": {
  "kernelspec": {
   "display_name": "Python 3.8.13 ('pytorch-nightly')",
   "language": "python",
   "name": "python3"
  },
  "language_info": {
   "codemirror_mode": {
    "name": "ipython",
    "version": 3
   },
   "file_extension": ".py",
   "mimetype": "text/x-python",
   "name": "python",
   "nbconvert_exporter": "python",
   "pygments_lexer": "ipython3",
   "version": "3.8.13"
  },
  "orig_nbformat": 4,
  "vscode": {
   "interpreter": {
    "hash": "3034388270e3ec6de483fb4f12288f65be920d7b368a637642dda9697eab917a"
   }
  }
 },
 "nbformat": 4,
 "nbformat_minor": 2
}
